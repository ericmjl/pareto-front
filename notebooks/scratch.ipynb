{
 "cells": [
  {
   "cell_type": "code",
   "execution_count": null,
   "metadata": {},
   "outputs": [],
   "source": [
    "%load_ext autoreload \n",
    "%autoreload 2"
   ]
  },
  {
   "cell_type": "markdown",
   "metadata": {},
   "source": [
    "# Pareto Front Calculation"
   ]
  },
  {
   "cell_type": "markdown",
   "metadata": {},
   "source": [
    "We generate some data."
   ]
  },
  {
   "cell_type": "code",
   "execution_count": null,
   "metadata": {},
   "outputs": [],
   "source": [
    "import numpy as np\n",
    "from pareto_front import pareto_front\n",
    "import pandas as pd \n",
    "\n",
    "a = np.random.normal(size=(1000, 2))"
   ]
  },
  {
   "cell_type": "markdown",
   "metadata": {},
   "source": [
    "We can now calculate the pareto front:"
   ]
  },
  {
   "cell_type": "code",
   "execution_count": null,
   "metadata": {},
   "outputs": [],
   "source": [
    "front = pareto_front(a)\n",
    "front"
   ]
  },
  {
   "cell_type": "markdown",
   "metadata": {},
   "source": [
    "We can also pass in pandas DataFrames:"
   ]
  },
  {
   "cell_type": "code",
   "execution_count": null,
   "metadata": {},
   "outputs": [],
   "source": [
    "front = pareto_front(pd.DataFrame(a))\n",
    "front"
   ]
  },
  {
   "cell_type": "markdown",
   "metadata": {},
   "source": [
    "## Pareto Collections: Obtain $n$ samples at successive pareto fronts\n",
    "\n",
    "Sometimes we need to pick out $n$ samples\n",
    "that live at successive pareto fronts.\n",
    "We call this pulling out the \"pareto collection\"."
   ]
  },
  {
   "cell_type": "code",
   "execution_count": null,
   "metadata": {},
   "outputs": [],
   "source": [
    "from typing import Union\n",
    "import seaborn as sns\n",
    "from pareto_front import pareto_collection\n",
    "import matplotlib.pyplot as plt\n",
    "\n",
    "fig, axes = plt.subplots(figsize=(12, 3), nrows=1, ncols=4)\n",
    "\n",
    "\n",
    "adf =  pd.DataFrame(a)\n",
    "\n",
    "for n, ax in zip([10, 50, 100, 200], axes.flatten()):\n",
    "\n",
    "    adf_coll = pareto_collection(adf, n)\n",
    "\n",
    "    adf.plot(kind=\"scatter\", x=0, y=1, ax=ax)\n",
    "    adf_coll.plot(kind=\"scatter\", x=0, y=1, color=\"red\", ax=ax)\n",
    "    ax.set_title(f\"n={n}\")\n",
    "    sns.despine()"
   ]
  }
 ],
 "metadata": {
  "interpreter": {
   "hash": "dd4e67a876e4f1205907e32c2a5469079a9b917e5d70296ba44cba9758bd07de"
  },
  "kernelspec": {
   "display_name": "Python 3.9.7 64-bit ('pareto-front': conda)",
   "language": "python",
   "name": "python3"
  },
  "language_info": {
   "codemirror_mode": {
    "name": "ipython",
    "version": 3
   },
   "file_extension": ".py",
   "mimetype": "text/x-python",
   "name": "python",
   "nbconvert_exporter": "python",
   "pygments_lexer": "ipython3",
   "version": "3.9.7"
  }
 },
 "nbformat": 4,
 "nbformat_minor": 2
}
